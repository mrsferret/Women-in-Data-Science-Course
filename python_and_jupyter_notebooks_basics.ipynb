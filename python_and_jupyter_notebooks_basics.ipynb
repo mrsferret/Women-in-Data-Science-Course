{
  "cells": [
    {
      "cell_type": "markdown",
      "metadata": {
        "id": "view-in-github",
        "colab_type": "text"
      },
      "source": [
        "<a href=\"https://colab.research.google.com/github/mrsferret/Women-in-Data-Science-Course/blob/main/python_and_jupyter_notebooks_basics.ipynb\" target=\"_parent\"><img src=\"https://colab.research.google.com/assets/colab-badge.svg\" alt=\"Open In Colab\"/></a>"
      ]
    },
    {
      "cell_type": "markdown",
      "metadata": {
        "toc": true,
        "id": "mo3pYCdN0LsS"
      },
      "source": [
        "<h1>Table of Contents<span class=\"tocSkip\"></span></h1>\n",
        "<div class=\"toc\"><ul class=\"toc-item\"><li><span><a href=\"#Python-and-Jupyter-Notebook-introduction\" data-toc-modified-id=\"Python-and-Jupyter-Notebook-introduction-1\"><span class=\"toc-item-num\">1&nbsp;&nbsp;</span>Python and Jupyter Notebook introduction</a></span><ul class=\"toc-item\"><li><span><a href=\"#Learning-Objectives\" data-toc-modified-id=\"Learning-Objectives-1.1\"><span class=\"toc-item-num\">1.1&nbsp;&nbsp;</span>Learning Objectives</a></span></li><li><span><a href=\"#What-is-Python?-\" data-toc-modified-id=\"What-is-Python?--1.2\"><span class=\"toc-item-num\">1.2&nbsp;&nbsp;</span>What is Python? <a class=\"anchor\" id=\"chapter_what_is_python\"></a></a></span></li><li><span><a href=\"#Why-Python?-\" data-toc-modified-id=\"Why-Python?--1.3\"><span class=\"toc-item-num\">1.3&nbsp;&nbsp;</span>Why Python? <a class=\"anchor\" id=\"chapter_why_python\"></a></a></span></li><li><span><a href=\"#Jupyter-notebooks-\" data-toc-modified-id=\"Jupyter-notebooks--1.4\"><span class=\"toc-item-num\">1.4&nbsp;&nbsp;</span>Jupyter notebooks <a class=\"anchor\" id=\"chapter_jupyter_notebooks\"></a></a></span></li><li><span><a href=\"#Accessing-a-notebook-\" data-toc-modified-id=\"Accessing-a-notebook--1.5\"><span class=\"toc-item-num\">1.5&nbsp;&nbsp;</span>Accessing a notebook <a class=\"anchor\" id=\"chapter_accessing_notebook\"></a></a></span></li><li><span><a href=\"#Components-of-a-notebook-\" data-toc-modified-id=\"Components-of-a-notebook--1.6\"><span class=\"toc-item-num\">1.6&nbsp;&nbsp;</span>Components of a notebook <a class=\"anchor\" id=\"chapter_notebook_components\"></a></a></span><ul class=\"toc-item\"><li><span><a href=\"#Menu-and-toolbars-\" data-toc-modified-id=\"Menu-and-toolbars--1.6.1\"><span class=\"toc-item-num\">1.6.1&nbsp;&nbsp;</span>Menu and toolbars <a class=\"anchor\" id=\"chapter_menu_toolbar\"></a></a></span></li><li><span><a href=\"#Cells-\" data-toc-modified-id=\"Cells--1.6.2\"><span class=\"toc-item-num\">1.6.2&nbsp;&nbsp;</span>Cells <a class=\"anchor\" id=\"chapter_cells\"></a></a></span></li><li><span><a href=\"#Code-Cells-\" data-toc-modified-id=\"Code-Cells--1.6.3\"><span class=\"toc-item-num\">1.6.3&nbsp;&nbsp;</span>Code Cells <a class=\"anchor\" id=\"chapter_code_cells\"></a></a></span></li><li><span><a href=\"#Markdown-Cells-\" data-toc-modified-id=\"Markdown-Cells--1.6.4\"><span class=\"toc-item-num\">1.6.4&nbsp;&nbsp;</span>Markdown Cells <a class=\"anchor\" id=\"chapter_markdown_cells\"></a></a></span></li></ul></li><li><span><a href=\"#Keyboard-shortcuts!-\" data-toc-modified-id=\"Keyboard-shortcuts!--1.7\"><span class=\"toc-item-num\">1.7&nbsp;&nbsp;</span>Keyboard shortcuts! <a class=\"anchor\" id=\"chapter_shortcuts\"></a></a></span><ul class=\"toc-item\"><li><span><a href=\"#Switching-between-command-mode-and-edit-mode\" data-toc-modified-id=\"Switching-between-command-mode-and-edit-mode-1.7.1\"><span class=\"toc-item-num\">1.7.1&nbsp;&nbsp;</span>Switching between <code>command mode</code> and <code>edit mode</code></a></span></li><li><span><a href=\"#Creating-/-changing-cells\" data-toc-modified-id=\"Creating-/-changing-cells-1.7.2\"><span class=\"toc-item-num\">1.7.2&nbsp;&nbsp;</span>Creating / changing cells</a></span></li><li><span><a href=\"#Running-code\" data-toc-modified-id=\"Running-code-1.7.3\"><span class=\"toc-item-num\">1.7.3&nbsp;&nbsp;</span>Running code</a></span></li><li><span><a href=\"#The-TAB-key\" data-toc-modified-id=\"The-TAB-key-1.7.4\"><span class=\"toc-item-num\">1.7.4&nbsp;&nbsp;</span>The TAB key</a></span></li></ul></li><li><span><a href=\"#Pros-and-cons-of-notebooks-\" data-toc-modified-id=\"Pros-and-cons-of-notebooks--1.8\"><span class=\"toc-item-num\">1.8&nbsp;&nbsp;</span>Pros and cons of notebooks <a class=\"anchor\" id=\"chapter_pros_cons\"></a></a></span></li></ul></li><li><span><a href=\"#Extra-Content-\" data-toc-modified-id=\"Extra-Content--2\"><span class=\"toc-item-num\">2&nbsp;&nbsp;</span>Extra Content <a class=\"anchor\" id=\"chapter_extra_content\"></a></a></span><ul class=\"toc-item\"><li><ul class=\"toc-item\"><li><span><a href=\"#Other-languages-\" data-toc-modified-id=\"Other-languages--2.0.1\"><span class=\"toc-item-num\">2.0.1&nbsp;&nbsp;</span>Other languages <a class=\"anchor\" id=\"chapter_other_languages\"></a></a></span></li><li><span><a href=\"#Installing-Jupyter-notebooks-Locally-\" data-toc-modified-id=\"Installing-Jupyter-notebooks-Locally--2.0.2\"><span class=\"toc-item-num\">2.0.2&nbsp;&nbsp;</span>Installing Jupyter notebooks Locally <a class=\"anchor\" id=\"chapter_install_locally\"></a></a></span></li></ul></li></ul></li></ul></div>"
      ]
    },
    {
      "cell_type": "markdown",
      "metadata": {
        "id": "afpnzWfP0LsX"
      },
      "source": [
        "<br>\n",
        "<hr style=\"border:0.2px solid black\"> </hr>\n",
        "\n",
        "# Python and Jupyter Notebook introduction\n",
        "\n",
        "\n",
        "## Learning Objectives\n",
        "\n",
        "* Understand the background to Python and Jupyter Notebooks.\n",
        "* Be able to use Jupyter Notebooks\n",
        "* Understand the different cells in a Jupyter Notebook - code and markdown.\n",
        "* Have awareness of the useful keyboard shortcuts for Jupyter Notebook.\n",
        "\n",
        "**Duration : 30 mins**\n",
        "\n",
        "<br>\n",
        "<hr style=\"border:0.2px solid black\"> </hr>\n",
        "\n",
        "## What is Python? <a class=\"anchor\" id=\"chapter_what_is_python\"></a>\n",
        "\n",
        "\n",
        "The Python programming language was created by the Dutch engineer Guido Van Rossum in the early 1990s. In contrast with other programming languages of that time, it was designed to be _fun_. This is reflected in the name of the language, which is named after Monty Python's Flying Circus - not the snake!\n",
        "\n",
        "Part of the reason Python is popular is that it's an easy language for beginners, while still being powerful enough to be used in many real life situations. I would say the three main areas where Python is used:\n",
        "\n",
        "1. Creating websites - the back end of many websites run using a web framework like *Django* or *Flask* which are written in Python.\n",
        "2. Scripting - this means creating small programs to do little tasks on your computer.\n",
        "3. Analysing data - which is what we'll be doing in this course!\n",
        "\n",
        "For data analysis and interactive, exploratory computing and data visualization, Python will inevitably draw comparisons with the many other domain-specific open source (designed to be publicly accessible) and commercial programming languages and tools in wide use, such as R, MATLAB, SAS, Stata, and others. \n",
        "\n",
        "<br>\n",
        "<hr style=\"border:0.2px solid black\"> </hr>\n",
        "\n",
        "## Why Python? <a class=\"anchor\" id=\"chapter_why_python\"></a>\n",
        "\n",
        "Python is **general purpose programming language**. This means that it is not designed to serve only a specific purpose. In contrast to languages like R or SAS, Python was not designed to serve the purpose of \"statistics\" or \"data analysis\". As such, Python does require a little more training to get started with, but there is no ceiling to what you can do with Python. Because it is a general purpose programming language, it means if you ever need to work in a different language like Java for some reason, your background in Python will give you a good conceptual foundation. \n",
        "\n",
        "As a language, Python has a clear, readable syntax. Perhaps its most notable feature is its use of whitespace to denote blocks of code, rather than the curly brackets that you might see in other programming languages.\n",
        "\n",
        "Its community places quite an emphasis on aesthetics. It's common to hear code being described as _Pythonic_ - this is code that meets the community's idea of how Python code should be. This philosophy is laid out in a document called [The Zen of Python](https://www.python.org/dev/peps/pep-0020/#id3).\n",
        "\n",
        "There are two versions of Python available: Python 2 and Python 3. Python 3 was an update to Python 2 that isn't backwards compatible. So code written in Python 2 won't necessarily run in Python 3. Python 2 is no longer supported (as of January 2020!) so if you have the choice you should avoid using it.\n",
        "\n",
        "\n",
        "<br>\n",
        "<hr style=\"border:0.2px solid black\"> </hr>\n",
        "\n",
        "## Jupyter notebooks <a class=\"anchor\" id=\"chapter_jupyter_notebooks\"></a>\n",
        "\n",
        "\n",
        "Jupyter is an open source platform that contains a suite of tools but we will be focusing on **Jupyter Notebooks** today. This is a browser-based application (so you can access it through a web browser such as Google Chrome etc.) that allows you to create and share documents (i.e. Jupyter Notebook files) that contain descriptive text, code blocks and code output (such as data visualisations) in a single file. The Jupyter Notebook file format is `.ipynb `. When you run the code, it generates the outputs, including plots and tables, within the notebook file. You can then export the notebook to a `.pdf` or `.html` that can then be shared with anyone. \n",
        "\n",
        "You can use Jupyter Notebooks to document workflows and to share code for data processing, analysis and visualization all in the one place. For data analysts and scientists, that format can drive exploration as it creates an environment in which users execute code, see what happens, modify and repeat in a kind of iterative conversation between the analyst and the data. \n",
        "\n",
        "This format is powerful as you can:\n",
        "\n",
        "* Share the notebook itself with anyone who might want to run the code in the notebook (e.g. other analysts)\n",
        "* Convert the notebook to a PDF or HTML format that can be viewed like a report (useful for a wider audience)\n",
        "\n",
        "There other applications that you can can use to write and execute Python code but we will be focusing on Jupyter Notebooks as it is popular in the data community. \n",
        "\n",
        "Computational notebooks have been around for decades, but Jupyter in particular has exploded in popularity over the past couple of years. This rapid uptake has been aided by the ability to code in different langauges within Jupyter — a fact reflected in its name, which was inspired, according to co-founder Fernando Pérez, by the programming languages Julia `(Ju)`, Python `(Py)` and `R`."
      ]
    },
    {
      "cell_type": "markdown",
      "metadata": {
        "id": "GuUW5AfE0LsZ"
      },
      "source": [
        "<br>\n",
        "<hr style=\"border:0.2px solid black\"> </hr>\n",
        "\n",
        "\n",
        "## Accessing a notebook <a class=\"anchor\" id=\"chapter_accessing_notebook\"></a>\n",
        "\n",
        "Jupyter Notebooks are accessed through a web browser. This means that we can have the actual Python code running on a server (a computer that provides resources to other computers), that you interact with through the browser. In this short course, we have set up the server and notebook for you so that you don't need to install anything on your own machine. \n",
        "\n",
        "It's also completely possible to use Jupyter Notebooks locally, with the code running on your own computer. We give installation instructions at the end of these notes to allow you to do this on your computer after the course.\n",
        "\n",
        "Let's start by looking at a notebook in our server. If you log on, you'll be presented with a main page. You want to start by opening up a notebook by pressing `New`, and choosing the `Python 3` option. \n",
        "\n",
        "<br><br>\n",
        "\n",
        "    \n",
        "![new_notebooks.png](attachment:new_notebooks.png)\n",
        "\n",
        "<br>"
      ]
    },
    {
      "cell_type": "markdown",
      "metadata": {
        "id": "xzMWC7IU0LsZ"
      },
      "source": [
        "<br>\n",
        "<hr style=\"border:0.2px solid black\"> </hr>\n",
        "\n",
        "## Components of a notebook <a class=\"anchor\" id=\"chapter_notebook_components\"></a>\n",
        "\n",
        "### Menu and toolbars <a class=\"anchor\" id=\"chapter_menu_toolbar\"></a>\n",
        "\n",
        "Let's start at the top. A Jupyter Notebook has the standard menu and toolbar you'd often see with other programmes (such as Microsoft Office programmes e.g. Word). \n",
        "\n",
        "\n",
        "Your Menu bar has different options: \n",
        "\n",
        "* `File`: where you can open, save and preview notebooks. \n",
        "* `Edit`: where you can make changes to the cells you have in your document\n",
        "* `View`: let's you change the view \n",
        "* `Insert`: where you can insert cells into your document \n",
        "* `Cell`: let's you run cells in your document \n",
        "* `Kernel`: runs your code in a specific language. \n",
        "* `Widgets`: for more advanced use of notebooks\n",
        "* `Help`: help functions \n",
        "\n",
        "Your toolbar has shortcuts for the things mentioned above. If you hover over each icon, it will tell you what it does. \n",
        "\n",
        "<br><br>\n",
        "\n",
        "### Cells <a class=\"anchor\" id=\"chapter_cells\"></a>\n",
        "\n",
        "Jupyter Notebooks have two components: code and markdown blocks. You type your code in a code block, and any text or non-code in a markdown block. \n",
        "\n",
        "First thing you need to know is that there are 2 modes in the Jupyter Notebook: **command mode** and **edit mode**. You know you're in **command mode** when the bar beside your code cell is blue:\n",
        "\n",
        "<br>\n",
        " \n",
        "\n",
        "![command_mode.png](attachment:command_mode.png)\n",
        "\n",
        "<br>\n",
        "\n",
        "When you are in command mode, you are able to edit the notebook as a whole, but not type into individual cells. Most importantly, in command mode, the keyboard is mapped to a set of shortcuts that let you perform notebook and cell actions efficiently. For example, if you are in command mode and you press `c`, you will copy the current cell - no other key is needed.\n",
        "\n",
        "If you have a green bar beside your cell, it means you are in **edit mode**: \n",
        "\n",
        "<br>\n",
        "\n",
        "\n",
        "![edit_mode.png](attachment:edit_mode.png)\n",
        "\n",
        "<br>\n",
        "\n",
        "When a cell is in edit mode, you can type into the cell, like a normal text editor.\n",
        "\n",
        "\n",
        "To switch between the two, use the following keyboard shortcuts:\n",
        "\n",
        "* `Esc` takes you to command mode\n",
        "* `Enter` takes you to edit mode\n",
        "\n",
        "When you are in command mode, you can insert two different types of cells to your notebook: **code cells** and **markdown cells**. "
      ]
    },
    {
      "cell_type": "markdown",
      "metadata": {
        "id": "caoHQ_o60Lsa"
      },
      "source": [
        "<br>\n",
        "\n",
        "### Code Cells <a class=\"anchor\" id=\"chapter_code_cells\"></a>\n",
        "\n",
        "A code cell is shown below, with some simple code written in it.\n",
        "<br>"
      ]
    },
    {
      "cell_type": "code",
      "execution_count": null,
      "metadata": {
        "id": "whtT-GCe0Lsa",
        "outputId": "9044d921-ba19-4e34-d9c3-935990cc1444"
      },
      "outputs": [
        {
          "data": {
            "text/plain": [
              "4"
            ]
          },
          "execution_count": 1,
          "metadata": {},
          "output_type": "execute_result"
        }
      ],
      "source": [
        "2 + 2"
      ]
    },
    {
      "cell_type": "markdown",
      "metadata": {
        "id": "qJdOzN0Q0Lsb"
      },
      "source": [
        "You can recognise a code cell by the fact it has : **In [1]:** next to it. This tells you it is waiting for code input. You can see in our notes, we also have a section that reads: **Out[1]:**. This shows you the output of the code you run. \n",
        "\n",
        "When you start a notebook, you will get a code cell by default. If you add a new cell below, it should be defaulting to code. If you want to make sure you have a code cell, you can enter command mode and press the `y` key. This is the shortcut for a code cell. \n"
      ]
    },
    {
      "cell_type": "markdown",
      "metadata": {
        "id": "gu6k7COt0Lsc"
      },
      "source": [
        "<br>\n",
        "\n",
        "### Markdown Cells <a class=\"anchor\" id=\"chapter_markdown_cells\"></a>\n",
        "\n",
        "\n",
        "A markdown cell contains plain text. It can also contain special markdown commands that format text in specific ways e.g. to make bold or italic etc. You'll be able to notice a markdown cell, because it doesn't have the **In[1]:** next to it, and rather will have nothing beside it.\n",
        "\n",
        "<br>\n",
        "\n",
        "\n",
        "![markdown_cell.png](attachment:markdown_cell.png)\n",
        "\n",
        "\n",
        "<br>\n",
        "\n",
        "Let's create one now. Click on the drop down that currently says \"Code\" and change to \"Markdown\", or enter command mode and use the keyboard shortcut `m`.\n"
      ]
    },
    {
      "cell_type": "markdown",
      "metadata": {
        "id": "i9XqElw90Lsc"
      },
      "source": [
        "If you create one of the markdown cells and type the following in it:\n",
        "\n",
        "<br>\n",
        "\n",
        "![results.png](attachment:results.png)\n",
        "\n",
        "<br>\n"
      ]
    },
    {
      "cell_type": "markdown",
      "metadata": {
        "id": "OaW6Av8l0Lsc"
      },
      "source": [
        "You can check (or change) the cell type either by clicking in to the cell and then looking at the toolbar. For example, here we are in a markdown cell:\n",
        "\n",
        "<br>\n",
        "\n",
        "![code_type.png](attachment:code_type.png)\n",
        "\n",
        "<br>\n",
        "\n"
      ]
    },
    {
      "cell_type": "markdown",
      "metadata": {
        "id": "-g2tKJgL0Lsd"
      },
      "source": [
        "\n",
        "After running this cell you'll see that the text is big. A single hash in markdown means \"Heading 1\". You have lots of different options for markdown formatting. **We won't do these in class, but you can try out the following in your own time:** \n",
        "\n",
        "```\n",
        "# Heading 1\n",
        "## Heading 2\n",
        "### Heading 3\n",
        "#### Heading 4\n",
        "\n",
        "\n",
        "*italics*\n",
        "**bold**\n",
        "\n",
        "1. A\n",
        "2. Numbered\n",
        "3. List\n",
        "\n",
        "* A\n",
        "* bullet \n",
        "* list\n",
        "\n",
        "[A link!](www.google.com)\n",
        "```"
      ]
    },
    {
      "cell_type": "markdown",
      "metadata": {
        "id": "3O3qrjfV0Lsd"
      },
      "source": [
        "<br>\n",
        "<hr style=\"border:0.2px solid black\"> </hr>\n",
        "\n",
        "## Keyboard shortcuts! <a class=\"anchor\" id=\"chapter_shortcuts\"></a>\n",
        "\n",
        "\n",
        "To become very efficient in Jupyter Notebooks then you'll want to learn how to use the many keyboard shortcuts. \n",
        "\n",
        "<br> \n",
        "\n",
        "### Switching between `command mode` and `edit mode` \n",
        "\n",
        "There are two modes: an editing mode and a command mode.\n",
        "\n",
        "* Press `esc` to enter command mode.\n",
        "* Press `enter` enter editing mode.\n",
        "\n",
        "Editing mode allows you to type into cells. Command mode allows you to edit the notebook as a whole, but not type into individual cells. \n",
        "In editing mode you can write code or markdown and you can run the cell by pressing `shift + enter`.\n",
        "In command mode you have access to a huge range of keyboard shortcuts, including:\n",
        "\n",
        "<br> \n",
        "\n",
        "### Creating / changing cells\n",
        "\n",
        "\n",
        "* The arrow keys will move you between cells\n",
        "* `a` : create a new cell above\n",
        "* `b` : create a new cell below\n",
        "* `dd` : pressing `d` twice, quickly will delete your current cell\n",
        "* `m` : change a code cell into a markdown cell\n",
        "* `y`: change a markdown cell into a code cell\n",
        "\n",
        "[Here are some more handy shortcuts](https://www.cheatography.com/weidadeyue/cheat-sheets/jupyter-notebook/)\n",
        "\n",
        "\n",
        "### Running code\n",
        "\n",
        "**To run code, you have different options**. you can press the **Run** button that is in your toolbar (and looks like an arrow pointing to the right and has the word Run next to it). Or you can use a keyboard shortcut: \n",
        "\n",
        "<br>\n",
        "\n",
        "\n",
        "![shorcuts.png](attachment:shorcuts.png)\n",
        "\n",
        "\n",
        "<br>\n",
        "\n",
        "Depending which OS system you're using, your shortcuts will be different. For example, on Mac it will be the command key `⌘` instead of `Ctrl`, and the option key `⌥` instead of `Alt`. \n",
        "\n",
        "You should try and get used to the keyboard shortcuts, as these will save you a lot of time! \n",
        "\n",
        "### The TAB key \n",
        "\n",
        "Finally, the TAB key is your best friend. If you start typing, and hit the TAB key, it will bring up an autocomplete option. This will save you time in the long run.  \n",
        "\n",
        "<br>\n",
        "<hr style=\"border:0.2px solid black\"> </hr>\n",
        "\n",
        "## Pros and cons of notebooks <a class=\"anchor\" id=\"chapter_pros_cons\"></a>\n",
        "\n",
        "Notebooks are somewhat controversial! Some people love working in them, some people hate them. The main pros include:\n",
        "\n",
        "1. Easy to see results.\n",
        "2. Easy to test out small bits of code. \n",
        "3. Can create interactive documents.\n",
        "4. Encourages you to document as you go. By document we mean writing text around your code to explain what you are doing and why. Documenting makes it easier for readers (e.g. your colleauges or even your future self!) to understand the analysis.\n",
        "5. You can save Juptyer Notebooks containing code and markdown as `.html` files or `.pdf` files. When you save a html file, it creates a nicely rendered web page with the code and outputs visible alongside the nicely formatted text. This means you can share with a colleague and they can see your entire workflow without them having to rerun your analysis. \n",
        "\n",
        "The main cons are:\n",
        "\n",
        "1. It's not always clear what order the cells have been run in and this can get confusing.\n",
        "2. Notebooks generally do not have all the features of some other coding programmes, like more limited autocomplete etc.\n",
        "3. It can be hard to move from \"exploration\" to \"production\". A notebook isn't the right place to write code that runs an application.\n",
        "\n",
        "\n"
      ]
    },
    {
      "cell_type": "markdown",
      "metadata": {
        "id": "UaDu5S7F0Lsd"
      },
      "source": [
        "\n",
        "<br>\n",
        "<hr style=\"border:0.2px solid black\"> </hr>\n",
        "\n",
        "\n",
        "# Extra Content <a class=\"anchor\" id=\"chapter_extra_content\"></a>"
      ]
    },
    {
      "cell_type": "markdown",
      "metadata": {
        "id": "K4s4dyqO0Lse"
      },
      "source": [
        "### Other languages <a class=\"anchor\" id=\"chapter_other_languages\"></a>\n",
        "\n",
        "Today we're just going to be using Python. However, you can use other languages with Jupyter notebook, in particular Julia and R. In fact: Jupyter = JUlia + PYthon + R.\n",
        "\n",
        "To use R, see the R kernel:\n",
        "https://irkernel.github.io/\n",
        "\n",
        "And for Julia, see :\n",
        "https://github.com/JuliaLang/IJulia.jl\n",
        "\n",
        "Lots of other languages are supported too!\n",
        "\n",
        "https://github.com/jupyter/jupyter/wiki/Jupyter-kernels"
      ]
    },
    {
      "cell_type": "markdown",
      "metadata": {
        "id": "Tx0ICkub0Lse"
      },
      "source": [
        "### Installing Jupyter notebooks Locally <a class=\"anchor\" id=\"chapter_install_locally\"></a>\n",
        "\n",
        "To install Jupyter Notebooks we recommend installing Anaconda. This is a special version of Python with lots of data-related add-ons pre-installed. In particular Anaconda comes with Jupyter notebooks, and the packages `pandas` and `seaborn` which we will be using later on.\n",
        "\n",
        "The installation instructions on the Anaconda website are fairly comprehensive.\n",
        "\n",
        "https://www.anaconda.com/\n",
        "\n",
        "\n",
        "#### Starting Jupyter notebooks \n",
        "\n",
        "Once you have Anaconda installed, carry out the following process to open a notebook.\n",
        "\n",
        "1. Open the program *Anaconda Navigator*.\n",
        "2. Click on *Launch* under Jupyter Notebooks. A window should open in your default web browser.\n",
        "3. You should see all the files in your home directory. Click on folders to move to the location where you want to make a notebook.\n",
        "4. Click New > Notebook > Python 3 to start the notebook.\n",
        "\n",
        "When you want to go back to the notebook, you will need to launch Jupyter Notebooks again. Move to the location of your notebook and click to open it.\n",
        "\n",
        "#### Opening from the command line \n",
        "\n",
        "Alternatively, you can start Jupyter Notebooks from the terminal. Just type:\n",
        "\n",
        "```\n",
        "jupyter notebook\n",
        "```\n",
        "\n",
        "This will start a notebook server in your current location in terminal. If you want to make your notebooks somewhere other than your home directory, you will want to move to the directory you want. \n",
        "\n",
        "#### Installing libraries \n",
        "\n",
        "If you are using Anaconda to install any packages (such as numpy or pandas) then there's 2 methods to install packages you can take. Once you've installed the packages then you should then be able to import the library in the normal way in a notebook using `import` e.g. `import pandas as pd`\n",
        "\n",
        "##### Method 1 - Terminal \n",
        "\n",
        "To do this you should open your Terminal application on your computer and then type:\n",
        "\n",
        "```\n",
        "conda install insert_name_of_package\n",
        "```\n",
        "\n",
        "And then press enter to execute the line.  \n",
        "\n",
        "##### Method 2 - Anaconda navigator  \n",
        "\n",
        "You can install packages via the Anaconda interface - a step by step guide to this can be found [here](https://docs.anaconda.com/anaconda/navigator/tutorials/manage-packages/) to do this.\n"
      ]
    }
  ],
  "metadata": {
    "jupytext": {
      "cell_metadata_filter": "tags,-all",
      "main_language": "python",
      "notebook_metadata_filter": "-all"
    },
    "kernelspec": {
      "display_name": "Python 3 (ipykernel)",
      "language": "python",
      "name": "python3"
    },
    "language_info": {
      "codemirror_mode": {
        "name": "ipython",
        "version": 3
      },
      "file_extension": ".py",
      "mimetype": "text/x-python",
      "name": "python",
      "nbconvert_exporter": "python",
      "pygments_lexer": "ipython3",
      "version": "3.9.0"
    },
    "toc": {
      "base_numbering": 1,
      "nav_menu": {},
      "number_sections": true,
      "sideBar": true,
      "skip_h1_title": false,
      "title_cell": "Table of Contents",
      "title_sidebar": "Contents",
      "toc_cell": true,
      "toc_position": {},
      "toc_section_display": true,
      "toc_window_display": false
    },
    "varInspector": {
      "cols": {
        "lenName": 16,
        "lenType": 16,
        "lenVar": 40
      },
      "kernels_config": {
        "python": {
          "delete_cmd_postfix": "",
          "delete_cmd_prefix": "del ",
          "library": "var_list.py",
          "varRefreshCmd": "print(var_dic_list())"
        },
        "r": {
          "delete_cmd_postfix": ") ",
          "delete_cmd_prefix": "rm(",
          "library": "var_list.r",
          "varRefreshCmd": "cat(var_dic_list()) "
        }
      },
      "types_to_exclude": [
        "module",
        "function",
        "builtin_function_or_method",
        "instance",
        "_Feature"
      ],
      "window_display": false
    },
    "colab": {
      "name": "python_and_jupyter_notebooks_basics.ipynb",
      "provenance": [],
      "include_colab_link": true
    }
  },
  "nbformat": 4,
  "nbformat_minor": 0
}